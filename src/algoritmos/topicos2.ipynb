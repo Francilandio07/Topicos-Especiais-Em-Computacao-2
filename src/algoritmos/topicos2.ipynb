{
  "nbformat": 4,
  "nbformat_minor": 0,
  "metadata": {
    "colab": {
      "provenance": [],
      "collapsed_sections": [
        "rCEHR7C1RnTF"
      ]
    },
    "kernelspec": {
      "name": "python3",
      "display_name": "Python 3"
    },
    "language_info": {
      "name": "python"
    }
  },
  "cells": [
    {
      "cell_type": "code",
      "source": [
        "!pip install memory_profiler"
      ],
      "metadata": {
        "colab": {
          "base_uri": "https://localhost:8080/"
        },
        "id": "B62JpGB5cltB",
        "outputId": "6af8757f-7bdf-4b82-96be-8197aca50786"
      },
      "execution_count": 1,
      "outputs": [
        {
          "output_type": "stream",
          "name": "stdout",
          "text": [
            "Collecting memory_profiler\n",
            "  Downloading memory_profiler-0.61.0-py3-none-any.whl (31 kB)\n",
            "Requirement already satisfied: psutil in /usr/local/lib/python3.10/dist-packages (from memory_profiler) (5.9.5)\n",
            "Installing collected packages: memory_profiler\n",
            "Successfully installed memory_profiler-0.61.0\n"
          ]
        }
      ]
    },
    {
      "cell_type": "code",
      "source": [
        "import csv\n",
        "import time\n",
        "import sys\n",
        "from memory_profiler import memory_usage\n",
        "import tracemalloc\n",
        "import pickle"
      ],
      "metadata": {
        "id": "kaGV-CJT7eS2"
      },
      "execution_count": 2,
      "outputs": []
    },
    {
      "cell_type": "code",
      "source": [
        "naoordenados = ['/content/naoordenados/100.txt','/content/naoordenados/200.txt','/content/naoordenados/1000.txt','/content/naoordenados/2000.txt','/content/naoordenados/5000.txt','/content/naoordenados/10000.txt','/content/naoordenados/50000.txt','/content/naoordenados/100000.txt','/content/naoordenados/500000.txt','/content/naoordenados/1000000.txt']\n",
        "ordenados = ['/content/ordenados/100.txt','/content/ordenados/200.txt','/content/ordenados/1000.txt','/content/ordenados/2000.txt','/content/ordenados/5000.txt','/content/ordenados/10000.txt','/content/ordenados/50000.txt','/content/ordenados/100000.txt','/content/ordenados/500000.txt','/content/ordenados/1000000.txt']\n"
      ],
      "metadata": {
        "id": "Q1lEe_l7CJWM"
      },
      "execution_count": 3,
      "outputs": []
    },
    {
      "cell_type": "code",
      "execution_count": 4,
      "metadata": {
        "id": "J3ImkXLGXeHm"
      },
      "outputs": [],
      "source": [
        "#Busca Sequencial\n",
        "\n",
        "def buscaSequencial_v1(x, v):\n",
        "    indice = -1\n",
        "    for i in range(len(v)):\n",
        "        if v[i] == x:\n",
        "            indice = i\n",
        "    return indice\n",
        "\n",
        "def buscaSequencial_v2(x, v):\n",
        "    for i in range(len(v)):\n",
        "        if v[i] == x:\n",
        "            return i\n",
        "    return -1\n",
        "\n",
        "def buscaSequencialv1Auto(ordenados, naoordenados):\n",
        "  tracemalloc.start()\n",
        "\n",
        "  buscasequencialv1naoordenado = {\"memoria\":{}, \"tempo\":{}}\n",
        "  buscasequencialv1ordenado = {\"memoria\":{}, \"tempo\":{}}\n",
        "\n",
        "\n",
        "  for arquivo in (ordenados):\n",
        "    arrayo = []\n",
        "    with open(arquivo, 'r') as file:\n",
        "        readero = csv.reader(file)\n",
        "        for line in readero:\n",
        "            for token in line:\n",
        "                arrayo.append(int(token))\n",
        "\n",
        "\n",
        "    startMemoryo, _ = tracemalloc.get_traced_memory()\n",
        "    startTimeo = time.time()\n",
        "    buscaSequencial_v1(arrayo[len(arrayo) - 1], arrayo)\n",
        "    endTimeo = time.time()\n",
        "    endMemoryo, _ = tracemalloc.get_traced_memory()\n",
        "\n",
        "    totalTimeo = endTimeo - startTimeo\n",
        "    totalMemoryo = (endMemoryo - startMemoryo)\n",
        "\n",
        "    buscasequencialv1ordenado['memoria'][arquivo] = totalMemoryo\n",
        "    buscasequencialv1ordenado['tempo'][arquivo] = totalTimeo\n",
        "\n",
        "  for arquivo in (naoordenados):\n",
        "    arrayn = []\n",
        "    with open(arquivo, 'r') as file:\n",
        "        readern = csv.reader(file)\n",
        "        for line in readern:\n",
        "            for token in line:\n",
        "                arrayn.append(int(token))\n",
        "\n",
        "\n",
        "    startMemoryn, _ = tracemalloc.get_traced_memory()\n",
        "    startTimen = time.time()\n",
        "    buscaSequencial_v1(arrayn[len(arrayn) - 1], arrayn)\n",
        "    endTimen = time.time()\n",
        "    endMemoryn, _ = tracemalloc.get_traced_memory()\n",
        "\n",
        "    totalTimen = endTimen - startTimen\n",
        "    totalMemoryn = (endMemoryn - startMemoryn)\n",
        "\n",
        "    buscasequencialv1naoordenado['memoria'][arquivo] = totalMemoryo\n",
        "    buscasequencialv1naoordenado['tempo'][arquivo] = totalTimeo\n",
        "\n",
        "  return buscasequencialv1ordenado, buscasequencialv1naoordenado\n",
        "\n",
        "v1ordenado, v1naoordenado = buscaSequencialv1Auto(ordenados, naoordenados)\n",
        "\n",
        "with open(\"BuscaSequencialv1Ordenada.pkl\", \"wb\") as f:\n",
        "    # Usa a função dump para salvar o dicionário no arquivo\n",
        "    pickle.dump(v1ordenado, f)\n",
        "\n",
        "with open(\"BuscaSequencialv1NaoOrdenada.pkl\", \"wb\") as f:\n",
        "    # Usa a função dump para salvar o dicionário no arquivo\n",
        "    pickle.dump(v1naoordenado, f)\n",
        "\n"
      ]
    },
    {
      "cell_type": "code",
      "source": [
        "def buscaSequencialv2Auto(ordenados, naoordenados):\n",
        "  tracemalloc.start()\n",
        "\n",
        "  buscasequencialv2naoordenado = {\"memoria\":{}, \"tempo\":{}}\n",
        "  buscasequencialv2ordenado = {\"memoria\":{}, \"tempo\":{}}\n",
        "\n",
        "\n",
        "  for arquivo in (ordenados):\n",
        "    arrayo = []\n",
        "    with open(arquivo, 'r') as file:\n",
        "        readero = csv.reader(file)\n",
        "        for line in readero:\n",
        "            for token in line:\n",
        "                arrayo.append(int(token))\n",
        "\n",
        "\n",
        "    startMemoryo, _ = tracemalloc.get_traced_memory()\n",
        "    startTimeo = time.time()\n",
        "    buscaSequencial_v2(arrayo[len(arrayo) - 1], arrayo)\n",
        "    endTimeo = time.time()\n",
        "    endMemoryo, _ = tracemalloc.get_traced_memory()\n",
        "\n",
        "    totalTimeo = endTimeo - startTimeo\n",
        "    totalMemoryo = (endMemoryo - startMemoryo)\n",
        "\n",
        "    buscasequencialv2ordenado['memoria'][arquivo] = totalMemoryo\n",
        "    buscasequencialv2ordenado['tempo'][arquivo] = totalTimeo\n",
        "\n",
        "  for arquivo in (naoordenados):\n",
        "    arrayn = []\n",
        "    with open(arquivo, 'r') as file:\n",
        "        readern = csv.reader(file)\n",
        "        for line in readern:\n",
        "            for token in line:\n",
        "                arrayn.append(int(token))\n",
        "\n",
        "\n",
        "    startMemoryn, _ = tracemalloc.get_traced_memory()\n",
        "    startTimen = time.time()\n",
        "    buscaSequencial_v2(arrayn[len(arrayn) - 1], arrayn)\n",
        "    endTimen = time.time()\n",
        "    endMemoryn, _ = tracemalloc.get_traced_memory()\n",
        "\n",
        "    totalTimen = endTimen - startTimen\n",
        "    totalMemoryn = (endMemoryn - startMemoryn)\n",
        "\n",
        "    buscasequencialv2naoordenado['memoria'][arquivo] = totalMemoryo\n",
        "    buscasequencialv2naoordenado['tempo'][arquivo] = totalTimeo\n",
        "\n",
        "  return buscasequencialv2ordenado, buscasequencialv2naoordenado\n",
        "\n",
        "v2ordenado, v2naoordenado = buscaSequencialv2Auto(ordenados, naoordenados)\n",
        "\n",
        "with open(\"BuscaSequencialv2Ordenada.pkl\", \"wb\") as f:\n",
        "    # Usa a função dump para salvar o dicionário no arquivo\n",
        "    pickle.dump(v2ordenado, f)\n",
        "\n",
        "with open(\"BuscaSequencialv2NaoOrdenada.pkl\", \"wb\") as f:\n",
        "    # Usa a função dump para salvar o dicionário no arquivo\n",
        "    pickle.dump(v2naoordenado, f)"
      ],
      "metadata": {
        "id": "0Ldy5Ys_LmG5"
      },
      "execution_count": 8,
      "outputs": []
    },
    {
      "cell_type": "code",
      "source": [
        "#Busca Ternaria\n",
        "\n",
        "def bt(vet, n, x):\n",
        "    inicio = 0\n",
        "    fim = n - 1\n",
        "    while inicio <= fim:\n",
        "        meio_esquerdo = inicio + (fim - inicio) // 3\n",
        "        meio_direito = fim - (fim - inicio) // 3\n",
        "        if vet[meio_esquerdo] == x:\n",
        "            return meio_esquerdo\n",
        "        elif vet[meio_direito] == x:\n",
        "            return meio_direito\n",
        "        elif vet[meio_esquerdo] > x:\n",
        "            fim = meio_esquerdo - 1\n",
        "        elif vet[meio_direito] < x:\n",
        "            inicio = meio_direito + 1\n",
        "        else:\n",
        "            inicio = meio_esquerdo + 1\n",
        "            fim = meio_direito - 1\n",
        "    return -1\n",
        "\n",
        "\n",
        "def buscaTernariaAuto(ordenados):\n",
        "  tracemalloc.start()\n",
        "\n",
        "  buscaternariaordenado = {\"memoria\":{}, \"tempo\":{}}\n",
        "\n",
        "\n",
        "  for arquivo in (ordenados):\n",
        "    arrayo = []\n",
        "    with open(arquivo, 'r') as file:\n",
        "        readero = csv.reader(file)\n",
        "        for line in readero:\n",
        "            for token in line:\n",
        "                arrayo.append(int(token))\n",
        "\n",
        "\n",
        "    startMemoryo, _ = tracemalloc.get_traced_memory()\n",
        "    startTimeo = time.time()\n",
        "    bt(arrayo, len(arrayo), arrayo[len(arrayo) - 1])\n",
        "    endTimeo = time.time()\n",
        "    endMemoryo, _ = tracemalloc.get_traced_memory()\n",
        "\n",
        "    totalTimeo = endTimeo - startTimeo\n",
        "    totalMemoryo = (endMemoryo - startMemoryo)\n",
        "\n",
        "    buscaternariaordenado['memoria'][arquivo] = totalMemoryo\n",
        "    buscaternariaordenado['tempo'][arquivo] = totalTimeo\n",
        "\n",
        "\n",
        "  return buscaternariaordenado\n",
        "\n",
        "dicbuscaternaria = buscaTernariaAuto(ordenados)\n",
        "\n",
        "with open(\"buscaTernaria.pkl\", \"wb\") as f:\n",
        "    # Usa a função dump para salvar o dicionário no arquivo\n",
        "    pickle.dump(dicbuscaternaria, f)"
      ],
      "metadata": {
        "id": "o1TimPQBdRfL"
      },
      "execution_count": null,
      "outputs": []
    },
    {
      "cell_type": "code",
      "source": [
        "#Pesquisa Binaria\n",
        "\n",
        "def PesquisaBinaria(x, v, e, d):\n",
        "    meio = (e + d) // 2\n",
        "    if v[meio] == x:\n",
        "        return meio\n",
        "    if e >= d:\n",
        "        return -1\n",
        "    elif v[meio] < x:\n",
        "        return PesquisaBinaria(x, v, meio + 1, d)\n",
        "    else:\n",
        "        return PesquisaBinaria(x, v, e, meio - 1)\n",
        "\n",
        "def buscaBinariaAuto(ordenados):\n",
        "  tracemalloc.start()\n",
        "\n",
        "  buscabinariaordenado = {\"memoria\":{}, \"tempo\":{}}\n",
        "\n",
        "\n",
        "  for arquivo in (ordenados):\n",
        "    arrayo = []\n",
        "    with open(arquivo, 'r') as file:\n",
        "        readero = csv.reader(file)\n",
        "        for line in readero:\n",
        "            for token in line:\n",
        "                arrayo.append(int(token))\n",
        "\n",
        "\n",
        "    startMemoryo, _ = tracemalloc.get_traced_memory()\n",
        "    startTimeo = time.time()\n",
        "    PesquisaBinaria(arrayo[len(arrayo) - 1], arrayo, 0, len(arrayo))\n",
        "    endTimeo = time.time()\n",
        "    endMemoryo, _ = tracemalloc.get_traced_memory()\n",
        "\n",
        "    totalTimeo = endTimeo - startTimeo\n",
        "    totalMemoryo = (endMemoryo - startMemoryo)\n",
        "\n",
        "    buscabinariaordenado['memoria'][arquivo] = totalMemoryo\n",
        "    buscabinariaordenado['tempo'][arquivo] = totalTimeo\n",
        "\n",
        "\n",
        "  return buscabinariaordenado\n",
        "\n",
        "dicbuscabinaria = buscaBinariaAuto(ordenados)\n",
        "\n",
        "with open(\"buscaBinaria.pkl\", \"wb\") as f:\n",
        "    # Usa a função dump para salvar o dicionário no arquivo\n",
        "    pickle.dump(dicbuscabinaria, f)\n"
      ],
      "metadata": {
        "id": "yP-Vc7pkdRWu"
      },
      "execution_count": null,
      "outputs": []
    },
    {
      "cell_type": "code",
      "source": [
        "import random\n",
        "\n",
        "numeros = [random.randint(0, 10000) for _ in range(100000)] # gera 5000 números aleatórios entre 0 e 10000\n",
        "linhas = [\",\".join(map(str, numeros[i:i+10])) for i in range(0, len(numeros), 10)] # divide os números em linhas de 10 elementos e converte para string\n",
        "\n",
        "with open(\"100000000.txt\", \"w\") as arquivo:\n",
        "    arquivo.write(\"\\n\".join(linhas)) # escreve as linhas no arquivo, separadas por quebra de linha\n"
      ],
      "metadata": {
        "id": "gjCRT8wKNcZB"
      },
      "execution_count": 46,
      "outputs": []
    },
    {
      "cell_type": "code",
      "source": [
        "nome_arquivo = 'BuscaCubica_time.pkl'\n",
        "with open(nome_arquivo, 'rb') as arquivo:\n",
        "    BuscaCubica_time = pickle.load(arquivo)"
      ],
      "metadata": {
        "id": "OMAAnVavQtHj"
      },
      "execution_count": 52,
      "outputs": []
    },
    {
      "cell_type": "code",
      "source": [
        "BuscaCubica_time"
      ],
      "metadata": {
        "colab": {
          "base_uri": "https://localhost:8080/"
        },
        "id": "IJVIUsAxTrr6",
        "outputId": "e774034c-2345-4725-96ce-ae05457d34e1"
      },
      "execution_count": 53,
      "outputs": [
        {
          "output_type": "execute_result",
          "data": {
            "text/plain": [
              "{100: 50892000,\n",
              " 200: 330701200,\n",
              " 1000: 646782435100,\n",
              " 2000: 6141455403500,\n",
              " 5000: 95764141783600,\n",
              " 10000: None,\n",
              " 50000: None,\n",
              " 100000: None,\n",
              " 500000: None,\n",
              " 1000000: None,\n",
              " 5000000: None,\n",
              " 10000000: None,\n",
              " 100000000: None}"
            ]
          },
          "metadata": {},
          "execution_count": 53
        }
      ]
    },
    {
      "cell_type": "code",
      "source": [
        "BuscaCubica_time = {key: value for key, value in BuscaCubica_time.items() if key <= 5000}"
      ],
      "metadata": {
        "id": "rOWz2qP6eLNG"
      },
      "execution_count": 54,
      "outputs": []
    },
    {
      "cell_type": "code",
      "source": [
        "BuscaCubica_time"
      ],
      "metadata": {
        "colab": {
          "base_uri": "https://localhost:8080/"
        },
        "id": "edzpv9GbeT7_",
        "outputId": "bd89f94e-bf3a-4f2b-ba02-042a78aa52e0"
      },
      "execution_count": 55,
      "outputs": [
        {
          "output_type": "execute_result",
          "data": {
            "text/plain": [
              "{100: 50892000,\n",
              " 200: 330701200,\n",
              " 1000: 646782435100,\n",
              " 2000: 6141455403500,\n",
              " 5000: 95764141783600}"
            ]
          },
          "metadata": {},
          "execution_count": 55
        }
      ]
    },
    {
      "cell_type": "code",
      "source": [
        "import matplotlib.pyplot as plt\n",
        "\n",
        "#data = {'tempo': {'arquivo1': 1, 'arquivo2': 2, 'arquivo3': 3, 'arquivo4': 4, 'arquivo5': 5, 'arquivo6': 6, 'arquivo7': 7, 'arquivo8': 8, 'arquivo9': 9, 'arquivo10': 10},\n",
        "#        'memoria': {'arquivo1': 10, 'arquivo2': 20, 'arquivo3': 30, 'arquivo4': 40, 'arquivo5': 50, 'arquivo6': 60, 'arquivo7': 70, 'arquivo8': 80, 'arquivo9': 90, 'arquivo10': 100}}\n",
        "\n",
        "x = range(1, len(BuscaCubica_time) + 1)\n",
        "y = BuscaCubica_time.values()\n",
        "\n",
        "plt.plot(x, y)\n",
        "plt.title('Busca Cúbica, dados ordenados (elemento do fim)')\n",
        "plt.xlabel('Dados')\n",
        "plt.ylabel('Tempo(ns)')\n",
        "plt.xticks(x)\n",
        "plt.show()"
      ],
      "metadata": {
        "colab": {
          "base_uri": "https://localhost:8080/",
          "height": 472
        },
        "id": "-2aeDC9cXXbW",
        "outputId": "30572446-630d-4eb4-92fe-4f46111cb495"
      },
      "execution_count": 56,
      "outputs": [
        {
          "output_type": "display_data",
          "data": {
            "text/plain": [
              "<Figure size 640x480 with 1 Axes>"
            ],
            "image/png": "[encoded data removed]"
          },
          "metadata": {}
        }
      ]
    },
    {
      "cell_type": "code",
      "source": [
        "y"
      ],
      "metadata": {
        "colab": {
          "base_uri": "https://localhost:8080/"
        },
        "id": "vD-IZaLzdgkD",
        "outputId": "666f5c8a-6e20-407e-fc11-faa2b8f80381"
      },
      "execution_count": 19,
      "outputs": [
        {
          "output_type": "execute_result",
          "data": {
            "text/plain": [
              "dict_values([6488164, 155989, 201972, 152691, 152517, None, None, None, None, None, None, None, None])"
            ]
          },
          "metadata": {},
          "execution_count": 19
        }
      ]
    },
    {
      "cell_type": "code",
      "source": [
        "x = range(1, len(BuscaQuadratica_space) + 1)\n",
        "y = BuscaQuadratica_space.values()\n",
        "\n",
        "plt.plot(x, y)\n",
        "plt.title('Busca Quadrática, dados ordenados (elemento do fim)')\n",
        "plt.xlabel('Dados')\n",
        "plt.ylabel('Memória(B)')\n",
        "plt.xticks(x)\n",
        "plt.show()\n"
      ],
      "metadata": {
        "colab": {
          "base_uri": "https://localhost:8080/",
          "height": 472
        },
        "id": "6NWZqp22jgTm",
        "outputId": "9a7f2db6-9311-446d-9516-9f4139442a89"
      },
      "execution_count": 51,
      "outputs": [
        {
          "output_type": "display_data",
          "data": {
            "text/plain": [
              "<Figure size 640x480 with 1 Axes>"
            ],
            "image/png": "[encoded data removed]"
          },
          "metadata": {}
        }
      ]
    },
    {
      "cell_type": "markdown",
      "source": [
        "#Códigos opcionais"
      ],
      "metadata": {
        "id": "rCEHR7C1RnTF"
      }
    },
    {
      "cell_type": "code",
      "source": [
        "#Busca Cubica\n",
        "\n",
        "def BuscaCubica(vet, numeroProcurado):\n",
        "  posicao = -1\n",
        "  for i in range(len(vet)):\n",
        "      for j in range(len(vet)):\n",
        "          for l in range(len(vet)):\n",
        "              if vet[i] == numeroProcurado and vet[j] == numeroProcurado and vet[l] == numeroProcurado:\n",
        "                  posicao = i\n",
        "  return posicao\n",
        "\n",
        "\n",
        "fileName = \"/content/100.txt\"\n",
        "array = []\n",
        "with open(fileName, 'r') as file:\n",
        "    reader = csv.reader(file)\n",
        "    for line in reader:\n",
        "        for token in line:\n",
        "            array.append(int(token))\n",
        "\n",
        "tracemalloc.start()\n",
        "\n",
        "\n",
        "\n",
        "startMemory, _ = tracemalloc.get_traced_memory()\n",
        "startTime = time.time()\n",
        "print(BuscaCubica(array, 1000))\n",
        "endTime = time.time()\n",
        "endMemory, _ = tracemalloc.get_traced_memory()\n",
        "\n",
        "totalTime = endTime - startTime\n",
        "totalMemory = (endMemory - startMemory)\n",
        "\n",
        "print(f\"Tempo gasto: {totalTime}\")\n",
        "print(f\"Memória usada: {totalMemory} MB\")"
      ],
      "metadata": {
        "colab": {
          "base_uri": "https://localhost:8080/"
        },
        "id": "A3tZVKRMdR9v",
        "outputId": "8b37e175-e72a-4ecc-e542-650bde751b0f"
      },
      "execution_count": null,
      "outputs": [
        {
          "output_type": "stream",
          "name": "stdout",
          "text": [
            "-1\n",
            "Tempo gasto: 0.11809849739074707\n",
            "Memória usada: 0.00058746337890625 MB\n"
          ]
        }
      ]
    },
    {
      "cell_type": "code",
      "source": [
        "#Busca Quadratica\n",
        "\n",
        "def BuscaQuadratica(vet, numeroProcurado):\n",
        "  contador = 0\n",
        "  posicao = -1\n",
        "  entrou = False\n",
        "  for i in range(len(vet)):\n",
        "      for j in range(i, len(vet)):\n",
        "          if vet[i] == numeroProcurado:\n",
        "              if not entrou:\n",
        "                  posicao = i\n",
        "                  if vet[j] == numeroProcurado:\n",
        "                      contador += 1\n",
        "      if contador > 0:\n",
        "          entrou = True\n",
        "  if entrou:\n",
        "      print(\"Posicao: \" + str(posicao) + \" - contador de repeticao: \" + str(contador))\n",
        "\n"
      ],
      "metadata": {
        "id": "8rPyWWacdSLq",
        "colab": {
          "base_uri": "https://localhost:8080/"
        },
        "outputId": "9764bc4f-9fc8-4c33-b20b-f81c793669cc"
      },
      "execution_count": null,
      "outputs": [
        {
          "output_type": "stream",
          "name": "stdout",
          "text": [
            "Posicao: 6 - contador de repeticao: 1\n"
          ]
        }
      ]
    },
    {
      "cell_type": "code",
      "source": [
        "import matplotlib.pyplot as plt\n",
        "\n",
        "#data = {'tempo': {'arquivo1': 1, 'arquivo2': 2, 'arquivo3': 3, 'arquivo4': 4, 'arquivo5': 5, 'arquivo6': 6, 'arquivo7': 7, 'arquivo8': 8, 'arquivo9': 9, 'arquivo10': 10},\n",
        "#        'memoria': {'arquivo1': 10, 'arquivo2': 20, 'arquivo3': 30, 'arquivo4': 40, 'arquivo5': 50, 'arquivo6': 60, 'arquivo7': 70, 'arquivo8': 80, 'arquivo9': 90, 'arquivo10': 100}}\n",
        "\n",
        "x = range(1, len(v1ordenado['tempo']) + 1)\n",
        "y = v1ordenado['tempo'].values()\n",
        "\n",
        "plt.plot(x, y)\n",
        "plt.title('Busca Sequencial V1, dados ordenados (elemento do fim)')\n",
        "plt.xlabel('Dados')\n",
        "plt.ylabel('Tempo(s)')\n",
        "plt.xticks(x)\n",
        "plt.show()"
      ],
      "metadata": {
        "id": "URze4TzUT_4Y"
      },
      "execution_count": null,
      "outputs": []
    }
  ]
}